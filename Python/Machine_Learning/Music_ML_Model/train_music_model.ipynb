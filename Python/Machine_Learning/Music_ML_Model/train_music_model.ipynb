{
 "cells": [
  {
   "cell_type": "code",
   "execution_count": 1,
   "id": "26cd88c8",
   "metadata": {},
   "outputs": [
    {
     "data": {
      "text/plain": [
       "['music-recommendation.joblib']"
      ]
     },
     "execution_count": 1,
     "metadata": {},
     "output_type": "execute_result"
    }
   ],
   "source": [
    "# Import data, and predict\n",
    "\n",
    "import pandas as pd\n",
    "from  sklearn.tree import DecisionTreeClassifier\n",
    "import joblib\n",
    "from sklearn.model_selection import train_test_split\n",
    "\n",
    "# Load the data\n",
    "music_data = pd.read_csv(\"music.csv\")\n",
    "\n",
    "# Spli into train/test\n",
    "train_data, test_data = train_test_split(music_data, test_size=0.2, random_state=42)\n",
    "test_data.to_csv(\"music_test.csv\", index= False)\n",
    "\n",
    "# Train the model\n",
    "X_train = train_data.drop(columns=['genre'])\n",
    "y_train = train_data['genre']\n",
    "model = DecisionTreeClassifier()\n",
    "model.fit(X_train,y_train)\n",
    "\n",
    "# Save model\n",
    "joblib.dump(model, 'music-recommendation.joblib')"
   ]
  },
  {
   "cell_type": "code",
   "execution_count": null,
   "id": "6acba414",
   "metadata": {},
   "outputs": [
    {
     "name": "stderr",
     "output_type": "stream",
     "text": [
      "c:\\Users\\Omer.Shehzad\\AppData\\Local\\Programs\\Python\\Python312\\Lib\\site-packages\\sklearn\\utils\\validation.py:2739: UserWarning: X does not have valid feature names, but DecisionTreeClassifier was fitted with feature names\n"
     ]
    },
    {
     "data": {
      "text/plain": [
       "array(['Jazz'], dtype=object)"
      ]
     },
     "execution_count": 6,
     "metadata": {},
     "output_type": "execute_result"
    }
   ],
   "source": [
    "# Test the model\n",
    "model = joblib.load('music-recommendation.joblib')\n",
    "prediction = model.predict([[51,1]])\n",
    "prediction"
   ]
  }
 ],
 "metadata": {
  "kernelspec": {
   "display_name": "Python 3",
   "language": "python",
   "name": "python3"
  },
  "language_info": {
   "codemirror_mode": {
    "name": "ipython",
    "version": 3
   },
   "file_extension": ".py",
   "mimetype": "text/x-python",
   "name": "python",
   "nbconvert_exporter": "python",
   "pygments_lexer": "ipython3",
   "version": "3.12.2"
  }
 },
 "nbformat": 4,
 "nbformat_minor": 5
}
