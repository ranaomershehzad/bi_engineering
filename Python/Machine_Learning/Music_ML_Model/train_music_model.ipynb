{
 "cells": [
  {
   "cell_type": "code",
   "execution_count": null,
   "id": "26cd88c8",
   "metadata": {},
   "outputs": [],
   "source": [
    "# Import data, and predict\n",
    "\n",
    "import pandas as pd\n",
    "from  sklearn.tree import DecisionTreeClassifier\n",
    "import joblib\n",
    "from sklearn.model_selection import train_test_split\n",
    "\n",
    "# Load the data\n",
    "music_data = pd.read_csv(\"music.csv\")\n",
    "\n",
    "# Spli into train/test\n",
    "train_data, test_data = train_test_split(music_data, test_size=0.2, random_state=42)\n",
    "test_data.to_csv(\"music_test.csv\", index= False)\n",
    "\n",
    "# Train the model\n",
    "X_train = train_data.drop(columns=['genre'])\n",
    "y_train = train_data['genre']\n",
    "model = DecisionTreeClassifier()\n",
    "model.fit(X_train,y_train)\n",
    "\n",
    "# Save model\n",
    "joblib.dump(model, 'music-recommendation.joblib')"
   ]
  }
 ],
 "metadata": {
  "kernelspec": {
   "display_name": "Python 3",
   "language": "python",
   "name": "python3"
  },
  "language_info": {
   "codemirror_mode": {
    "name": "ipython",
    "version": 3
   },
   "file_extension": ".py",
   "mimetype": "text/x-python",
   "name": "python",
   "nbconvert_exporter": "python",
   "pygments_lexer": "ipython3",
   "version": "3.12.2"
  }
 },
 "nbformat": 4,
 "nbformat_minor": 5
}
