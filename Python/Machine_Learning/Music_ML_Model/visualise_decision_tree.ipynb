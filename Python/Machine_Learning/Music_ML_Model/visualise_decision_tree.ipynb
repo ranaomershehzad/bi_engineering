{
 "cells": [
  {
   "cell_type": "code",
   "execution_count": null,
   "id": "7e3e7136",
   "metadata": {},
   "outputs": [],
   "source": [
    "# Import data, and predict\n",
    "\n",
    "import pandas as pd\n",
    "from  sklearn.tree import DecisionTreeClassifier\n",
    "from sklearn import tree\n",
    "\n",
    "# Load the data\n",
    "music_data = pd.read_csv(\"music.csv\")\n",
    "# Train the model\n",
    "X = music_data.drop(columns=['genre'])\n",
    "y = music_data['genre']\n",
    "\n",
    "model = DecisionTreeClassifier()\n",
    "model.fit(X,y)\n",
    "\n",
    "#Visualise using a graph\n",
    "tree.export_graphviz(model, out_file='music-recommender.dot',\n",
    "                     feature_names=['age', 'gender'], \n",
    "                     class_names=sorted(y.unique()),\n",
    "                     label='all',\n",
    "                     rounded=True,\n",
    "                     filled=True)"
   ]
  }
 ],
 "metadata": {
  "kernelspec": {
   "display_name": "Python 3",
   "language": "python",
   "name": "python3"
  },
  "language_info": {
   "codemirror_mode": {
    "name": "ipython",
    "version": 3
   },
   "file_extension": ".py",
   "mimetype": "text/x-python",
   "name": "python",
   "nbconvert_exporter": "python",
   "pygments_lexer": "ipython3",
   "version": "3.12.2"
  }
 },
 "nbformat": 4,
 "nbformat_minor": 5
}
