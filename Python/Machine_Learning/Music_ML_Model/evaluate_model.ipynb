{
 "cells": [
  {
   "cell_type": "code",
   "execution_count": null,
   "id": "420dcdfe",
   "metadata": {},
   "outputs": [],
   "source": [
    "import pandas as pd\n",
    "import joblib\n",
    "from sklearn.metrics import accuracy_score, classification_report, confusion_matrix\n",
    "import matplotlib.pyplot as plt\n",
    "import seaborn as sns\n",
    "\n",
    "# load test data\n",
    "music_test = pd.read_csv('music_test.csv')\n",
    "X_test = music_test.drop(columns=['genre'])\n",
    "y_true = music_test['genre']\n",
    "\n",
    "#Load model\n",
    "model = joblib.load('music-recommendation.joblib')\n",
    "\n",
    "y_pred = \n"
   ]
  }
 ],
 "metadata": {
  "language_info": {
   "name": "python"
  }
 },
 "nbformat": 4,
 "nbformat_minor": 5
}
