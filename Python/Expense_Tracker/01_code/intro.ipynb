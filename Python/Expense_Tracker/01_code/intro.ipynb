{
 "cells": [
  {
   "cell_type": "code",
   "execution_count": 1,
   "id": "ec90569b",
   "metadata": {},
   "outputs": [],
   "source": [
    "import pandas as pd\n",
    "import numpy as np"
   ]
  },
  {
   "cell_type": "markdown",
   "id": "c7feeb46",
   "metadata": {},
   "source": [
    "Import Commbank and Amex Expenses"
   ]
  },
  {
   "cell_type": "code",
   "execution_count": 2,
   "id": "a27c059d",
   "metadata": {},
   "outputs": [],
   "source": [
    "# Commbank csv\n",
    "commbank_df = pd.read_csv(r'..\\00_source_data\\CSVData.csv', header=None, names=['tran_date', 'tran_amount','tran_description','balance'])\n",
    "\n",
    "# Amex csv\n",
    "amex_df = pd.read_csv(r'..\\00_source_data\\activity.csv')"
   ]
  },
  {
   "cell_type": "markdown",
   "id": "2cfe0b95",
   "metadata": {},
   "source": [
    "Rename Amex columns and add identifiers for both expense source"
   ]
  },
  {
   "cell_type": "code",
   "execution_count": 3,
   "id": "c5344e25",
   "metadata": {},
   "outputs": [],
   "source": [
    "#rename Amex columns\n",
    "amex_df = amex_df.rename(columns={'Date':'tran_date', 'Date Processed':'date_processed','Description':'tran_description','Amount':'tran_amount'})\n",
    "\n",
    "# drop date_processed column from Amex\n",
    "amex_df = amex_df.drop(columns=['date_processed'], errors='ignore')\n",
    "\n",
    "# drop balance column from Commbank\n",
    "commbank_df = commbank_df.drop(columns=['balance'], errors='ignore')\n",
    "\n",
    "# add expense indicator column:\n",
    "amex_df['expense_source'] = 'Amex'\n",
    "\n",
    "commbank_df['expense_source'] = 'Commbank'"
   ]
  },
  {
   "cell_type": "markdown",
   "id": "a2bcb588",
   "metadata": {},
   "source": [
    "Assign type to each transaction in Amex and Commbank"
   ]
  },
  {
   "cell_type": "code",
   "execution_count": null,
   "id": "45cef2c6",
   "metadata": {},
   "outputs": [],
   "source": [
    "# np.where is best for one simple if/else but we want to make it a little complex but neat with np select\n",
    "\n",
    "#amex_df['tran_type'] = np.where(amex_df['tran_amount'] > 0, 'Expense','Income')\n",
    "\n",
    "# 1. np.select below for Amex (expenses here are in positive):\n",
    "conditions = [\n",
    "    amex_df['tran_amount'] > 0,\n",
    "    amex_df['tran_amount'] < 0,\n",
    "    amex_df['tran_amount'] ==0\n",
    "]\n",
    "\n",
    "choices = ['Expense', 'Income', 'None']\n",
    "\n",
    "default_value = 'Unknown'\n",
    "\n",
    "amex_df['tran_type'] = np.select(conditions,choices, default=default_value)\n",
    "\n",
    "# 2. np.select below for Commbank (expenses here are in negative):\n",
    "conditions = [\n",
    "    commbank_df['tran_amount'] > 0,\n",
    "    commbank_df['tran_amount'] < 0,\n",
    "    commbank_df['tran_amount'] ==0\n",
    "]\n",
    "\n",
    "choices = ['Income', 'Expense', 'None']\n",
    "\n",
    "default_value = 'Unknown'\n",
    "\n",
    "commbank_df['tran_type'] = np.select(conditions,choices, default=default_value)"
   ]
  },
  {
   "cell_type": "markdown",
   "id": "2aa87b7a",
   "metadata": {},
   "source": [
    "Only keep Expenses from both DFs"
   ]
  },
  {
   "cell_type": "code",
   "execution_count": 14,
   "id": "f0276d39",
   "metadata": {},
   "outputs": [],
   "source": [
    "# Amex\n",
    "amex_exp = amex_df['tran_type'] == 'Expense'\n",
    "amex_df = amex_df.loc[amex_exp]\n",
    "\n",
    "# Commbank\n",
    "commbank_exp = commbank_df['tran_type'] == 'Expense'\n",
    "commbank_df = commbank_df.loc[commbank_exp]"
   ]
  },
  {
   "cell_type": "markdown",
   "id": "992ef9be",
   "metadata": {},
   "source": [
    "Sort and Union both DFs"
   ]
  },
  {
   "cell_type": "code",
   "execution_count": 17,
   "id": "30a8c156",
   "metadata": {},
   "outputs": [
    {
     "data": {
      "application/vnd.microsoft.datawrangler.viewer.v0+json": {
       "columns": [
        {
         "name": "index",
         "rawType": "int64",
         "type": "integer"
        },
        {
         "name": "tran_date",
         "rawType": "object",
         "type": "string"
        },
        {
         "name": "tran_description",
         "rawType": "object",
         "type": "string"
        },
        {
         "name": "tran_amount",
         "rawType": "float64",
         "type": "float"
        },
        {
         "name": "expense_source",
         "rawType": "object",
         "type": "string"
        },
        {
         "name": "tran_type",
         "rawType": "object",
         "type": "string"
        }
       ],
       "ref": "b422c963-fffe-42c4-bebf-e603138bfe50",
       "rows": [
        [
         "445",
         "1/04/2025",
         "INTEREST CHARGES",
         "5.59",
         "Amex",
         "Expense"
        ],
        [
         "443",
         "1/04/2025",
         "8 YOLKS SUCCESS         Success",
         "8.91",
         "Amex",
         "Expense"
        ],
        [
         "442",
         "1/04/2025",
         "8 YOLKS SUCCESS         Success",
         "8.13",
         "Amex",
         "Expense"
        ],
        [
         "444",
         "1/04/2025",
         "BP THOMSON LAKES        SUCCESS",
         "80.04",
         "Amex",
         "Expense"
        ],
        [
         "359",
         "1/05/2025",
         "CHEMIST WAREHOUSE SOUTH SOUTHERN RIVER",
         "20.98",
         "Amex",
         "Expense"
        ],
        [
         "360",
         "1/05/2025",
         "DESI MARKETPLACE        SOUTHERN RIVER",
         "66.32",
         "Amex",
         "Expense"
        ],
        [
         "362",
         "1/05/2025",
         "HIKARU SUSHI & JAPANESE PERTH",
         "4.5",
         "Amex",
         "Expense"
        ],
        [
         "287",
         "1/06/2025",
         "WOOLWORTHS 4330 HARVEST ATWELL",
         "4.9",
         "Amex",
         "Expense"
        ],
        [
         "286",
         "1/06/2025",
         "ADORE BEAUTY PTY LTD    NORTHCOTE",
         "35.25",
         "Amex",
         "Expense"
        ],
        [
         "217",
         "1/07/2025",
         "GUZMAN Y GOMEZ          SURRY HILLS",
         "17.5",
         "Amex",
         "Expense"
        ],
        [
         "216",
         "1/07/2025",
         "BP THOMSON LAKES        SUCCESS",
         "61.88",
         "Amex",
         "Expense"
        ],
        [
         "150",
         "1/08/2025",
         "UNIQLO AUSTRALIA PTY LT MELBOURNE",
         "69.8",
         "Amex",
         "Expense"
        ],
        [
         "149",
         "1/08/2025",
         "SUSHI HUB WILLIAM ST    PERTH",
         "14.4",
         "Amex",
         "Expense"
        ],
        [
         "148",
         "1/08/2025",
         "MCDONALDS NORTH PERTH 0 NORTH PERTH",
         "5.3",
         "Amex",
         "Expense"
        ],
        [
         "418",
         "10/04/2025",
         "WOOLWORTHS 4330 HARVEST ATWELL",
         "9.8",
         "Amex",
         "Expense"
        ],
        [
         "416",
         "10/04/2025",
         "MyPerfectResume.com     Strassen",
         "4.0",
         "Amex",
         "Expense"
        ],
        [
         "419",
         "10/04/2025",
         "WOOLWORTHS 4330 HARVEST ATWELL",
         "21.65",
         "Amex",
         "Expense"
        ],
        [
         "336",
         "10/05/2025",
         "KING'S KEBAB AND PIZZA  Atwell",
         "19.18",
         "Amex",
         "Expense"
        ],
        [
         "339",
         "10/05/2025",
         "WOOLWORTHS 4330 HARVEST ATWELL",
         "5.8",
         "Amex",
         "Expense"
        ],
        [
         "338",
         "10/05/2025",
         "MyPerfectResume.com     Strassen",
         "4.0",
         "Amex",
         "Expense"
        ],
        [
         "261",
         "10/06/2025",
         "SYNERGY PERTH           PERTH",
         "153.78",
         "Amex",
         "Expense"
        ],
        [
         "259",
         "10/06/2025",
         "MyPerfectResume.com     Strassen",
         "4.0",
         "Amex",
         "Expense"
        ],
        [
         "258",
         "10/06/2025",
         "MCDONALD'S 0983         SUCCESS",
         "9.95",
         "Amex",
         "Expense"
        ],
        [
         "257",
         "10/06/2025",
         "COLES GATEWAY 490       SUCCESS",
         "6.55",
         "Amex",
         "Expense"
        ],
        [
         "262",
         "10/06/2025",
         "WOOLWORTHS 4301 ST GEOR PERTH",
         "4.52",
         "Amex",
         "Expense"
        ],
        [
         "197",
         "10/07/2025",
         "MyPerfectResume.com     Strassen",
         "4.0",
         "Amex",
         "Expense"
        ],
        [
         "132",
         "10/08/2025",
         "KELLER?S FARM           Dayton",
         "18.8",
         "Amex",
         "Expense"
        ],
        [
         "130",
         "10/08/2025",
         "DESI MARKETPLACE        SOUTHERN RIVER",
         "65.2",
         "Amex",
         "Expense"
        ],
        [
         "133",
         "10/08/2025",
         "MyPerfectResume.com     Strassen",
         "4.0",
         "Amex",
         "Expense"
        ],
        [
         "131",
         "10/08/2025",
         "KELLER?S FARM           Dayton",
         "8.13",
         "Amex",
         "Expense"
        ],
        [
         "50",
         "10/09/2025",
         "ROYALS CHICKEN AND BUR  EAST VICTORIA P",
         "43.7",
         "Amex",
         "Expense"
        ],
        [
         "415",
         "11/04/2025",
         "GUZMAN Y GOMEZ          SURRY HILLS",
         "6.7",
         "Amex",
         "Expense"
        ],
        [
         "335",
         "11/05/2025",
         "YO-CHI FORRES 183509    PERTH",
         "11.34",
         "Amex",
         "Expense"
        ],
        [
         "334",
         "11/05/2025",
         "TEMU.COM                PARRAMATTA",
         "53.32",
         "Amex",
         "Expense"
        ],
        [
         "333",
         "11/05/2025",
         "BP EXPRESS CARLISLE     CARLISLE",
         "72.9",
         "Amex",
         "Expense"
        ],
        [
         "256",
         "11/06/2025",
         "NANDO'S AUSTRALIA PTY L ABBOTSFORD",
         "41.95",
         "Amex",
         "Expense"
        ],
        [
         "128",
         "11/08/2025",
         "WOOLWORTHS 4330 HARVEST ATWELL",
         "7.67",
         "Amex",
         "Expense"
        ],
        [
         "46",
         "11/09/2025",
         "COLES CAROUSEL - CANNIN CANNINGTON",
         "17.2",
         "Amex",
         "Expense"
        ],
        [
         "47",
         "11/09/2025",
         "COTTON ON CLOTHING PTY  CANNINGTON",
         "37.49",
         "Amex",
         "Expense"
        ],
        [
         "48",
         "11/09/2025",
         "H&M AUSTRALIA AU0029    CANNINGTON",
         "28.14",
         "Amex",
         "Expense"
        ],
        [
         "414",
         "12/04/2025",
         "WOOLWORTHS 4330 HARVEST ATWELL",
         "43.31",
         "Amex",
         "Expense"
        ],
        [
         "409",
         "12/04/2025",
         "DESI MARKETPLACE        SOUTHERN RIVER",
         "61.26",
         "Amex",
         "Expense"
        ],
        [
         "410",
         "12/04/2025",
         "KMART SUCCESS 1362      SUCCESS",
         "13.75",
         "Amex",
         "Expense"
        ],
        [
         "411",
         "12/04/2025",
         "KMART SUCCESS 1362      SUCCESS",
         "17.0",
         "Amex",
         "Expense"
        ],
        [
         "412",
         "12/04/2025",
         "SPUD SHED               MORLEY",
         "43.02",
         "Amex",
         "Expense"
        ],
        [
         "413",
         "12/04/2025",
         "TEMU.COM                PARRAMATTA",
         "37.19",
         "Amex",
         "Expense"
        ],
        [
         "408",
         "12/04/2025",
         "BUNNINGS COCKBURN CENTR JANDAKOT",
         "26.72",
         "Amex",
         "Expense"
        ],
        [
         "255",
         "12/06/2025",
         "WOOLWORTHS 4330 HARVEST ATWELL",
         "14.48",
         "Amex",
         "Expense"
        ],
        [
         "254",
         "12/06/2025",
         "ORIGIN ENERGY           MELBOURNE",
         "296.93",
         "Amex",
         "Expense"
        ],
        [
         "196",
         "12/07/2025",
         "WOOLWORTHS 4330 HARVEST ATWELL",
         "16.25",
         "Amex",
         "Expense"
        ]
       ],
       "shape": {
        "columns": 5,
        "rows": 411
       }
      },
      "text/html": [
       "<div>\n",
       "<style scoped>\n",
       "    .dataframe tbody tr th:only-of-type {\n",
       "        vertical-align: middle;\n",
       "    }\n",
       "\n",
       "    .dataframe tbody tr th {\n",
       "        vertical-align: top;\n",
       "    }\n",
       "\n",
       "    .dataframe thead th {\n",
       "        text-align: right;\n",
       "    }\n",
       "</style>\n",
       "<table border=\"1\" class=\"dataframe\">\n",
       "  <thead>\n",
       "    <tr style=\"text-align: right;\">\n",
       "      <th></th>\n",
       "      <th>tran_date</th>\n",
       "      <th>tran_description</th>\n",
       "      <th>tran_amount</th>\n",
       "      <th>expense_source</th>\n",
       "      <th>tran_type</th>\n",
       "    </tr>\n",
       "  </thead>\n",
       "  <tbody>\n",
       "    <tr>\n",
       "      <th>445</th>\n",
       "      <td>1/04/2025</td>\n",
       "      <td>INTEREST CHARGES</td>\n",
       "      <td>5.59</td>\n",
       "      <td>Amex</td>\n",
       "      <td>Expense</td>\n",
       "    </tr>\n",
       "    <tr>\n",
       "      <th>443</th>\n",
       "      <td>1/04/2025</td>\n",
       "      <td>8 YOLKS SUCCESS         Success</td>\n",
       "      <td>8.91</td>\n",
       "      <td>Amex</td>\n",
       "      <td>Expense</td>\n",
       "    </tr>\n",
       "    <tr>\n",
       "      <th>442</th>\n",
       "      <td>1/04/2025</td>\n",
       "      <td>8 YOLKS SUCCESS         Success</td>\n",
       "      <td>8.13</td>\n",
       "      <td>Amex</td>\n",
       "      <td>Expense</td>\n",
       "    </tr>\n",
       "    <tr>\n",
       "      <th>444</th>\n",
       "      <td>1/04/2025</td>\n",
       "      <td>BP THOMSON LAKES        SUCCESS</td>\n",
       "      <td>80.04</td>\n",
       "      <td>Amex</td>\n",
       "      <td>Expense</td>\n",
       "    </tr>\n",
       "    <tr>\n",
       "      <th>359</th>\n",
       "      <td>1/05/2025</td>\n",
       "      <td>CHEMIST WAREHOUSE SOUTH SOUTHERN RIVER</td>\n",
       "      <td>20.98</td>\n",
       "      <td>Amex</td>\n",
       "      <td>Expense</td>\n",
       "    </tr>\n",
       "    <tr>\n",
       "      <th>...</th>\n",
       "      <td>...</td>\n",
       "      <td>...</td>\n",
       "      <td>...</td>\n",
       "      <td>...</td>\n",
       "      <td>...</td>\n",
       "    </tr>\n",
       "    <tr>\n",
       "      <th>202</th>\n",
       "      <td>9/07/2025</td>\n",
       "      <td>KMART SUCCESS 1362      SUCCESS</td>\n",
       "      <td>25.00</td>\n",
       "      <td>Amex</td>\n",
       "      <td>Expense</td>\n",
       "    </tr>\n",
       "    <tr>\n",
       "      <th>201</th>\n",
       "      <td>9/07/2025</td>\n",
       "      <td>HAKATA GENSUKE TORI RA  NORTHBRIDGE</td>\n",
       "      <td>58.99</td>\n",
       "      <td>Amex</td>\n",
       "      <td>Expense</td>\n",
       "    </tr>\n",
       "    <tr>\n",
       "      <th>198</th>\n",
       "      <td>9/07/2025</td>\n",
       "      <td>ASSURANCE VENTURE PTY L SUCCESS</td>\n",
       "      <td>27.70</td>\n",
       "      <td>Amex</td>\n",
       "      <td>Expense</td>\n",
       "    </tr>\n",
       "    <tr>\n",
       "      <th>199</th>\n",
       "      <td>9/07/2025</td>\n",
       "      <td>BIG W 0444 GATEWAYS     BATEMAM</td>\n",
       "      <td>15.00</td>\n",
       "      <td>Amex</td>\n",
       "      <td>Expense</td>\n",
       "    </tr>\n",
       "    <tr>\n",
       "      <th>51</th>\n",
       "      <td>9/09/2025</td>\n",
       "      <td>HOP CAFE                VICTORIA PARK</td>\n",
       "      <td>5.86</td>\n",
       "      <td>Amex</td>\n",
       "      <td>Expense</td>\n",
       "    </tr>\n",
       "  </tbody>\n",
       "</table>\n",
       "<p>411 rows × 5 columns</p>\n",
       "</div>"
      ],
      "text/plain": [
       "     tran_date                        tran_description  tran_amount  \\\n",
       "445  1/04/2025                        INTEREST CHARGES         5.59   \n",
       "443  1/04/2025         8 YOLKS SUCCESS         Success         8.91   \n",
       "442  1/04/2025         8 YOLKS SUCCESS         Success         8.13   \n",
       "444  1/04/2025         BP THOMSON LAKES        SUCCESS        80.04   \n",
       "359  1/05/2025  CHEMIST WAREHOUSE SOUTH SOUTHERN RIVER        20.98   \n",
       "..         ...                                     ...          ...   \n",
       "202  9/07/2025         KMART SUCCESS 1362      SUCCESS        25.00   \n",
       "201  9/07/2025     HAKATA GENSUKE TORI RA  NORTHBRIDGE        58.99   \n",
       "198  9/07/2025         ASSURANCE VENTURE PTY L SUCCESS        27.70   \n",
       "199  9/07/2025         BIG W 0444 GATEWAYS     BATEMAM        15.00   \n",
       "51   9/09/2025   HOP CAFE                VICTORIA PARK         5.86   \n",
       "\n",
       "    expense_source tran_type  \n",
       "445           Amex   Expense  \n",
       "443           Amex   Expense  \n",
       "442           Amex   Expense  \n",
       "444           Amex   Expense  \n",
       "359           Amex   Expense  \n",
       "..             ...       ...  \n",
       "202           Amex   Expense  \n",
       "201           Amex   Expense  \n",
       "198           Amex   Expense  \n",
       "199           Amex   Expense  \n",
       "51            Amex   Expense  \n",
       "\n",
       "[411 rows x 5 columns]"
      ]
     },
     "execution_count": 17,
     "metadata": {},
     "output_type": "execute_result"
    }
   ],
   "source": [
    "amex_df.sort_values('tran_date')\n",
    "#commbank_df.sort_values('tran_date')"
   ]
  }
 ],
 "metadata": {
  "kernelspec": {
   "display_name": "Python 3",
   "language": "python",
   "name": "python3"
  },
  "language_info": {
   "codemirror_mode": {
    "name": "ipython",
    "version": 3
   },
   "file_extension": ".py",
   "mimetype": "text/x-python",
   "name": "python",
   "nbconvert_exporter": "python",
   "pygments_lexer": "ipython3",
   "version": "3.13.7"
  }
 },
 "nbformat": 4,
 "nbformat_minor": 5
}
